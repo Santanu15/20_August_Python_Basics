{
 "cells": [
  {
   "cell_type": "code",
   "execution_count": 2,
   "id": "fc2eee2f-3440-437f-96a3-76510bd2a040",
   "metadata": {},
   "outputs": [],
   "source": [
    "#1.Write a program to reverse a string."
   ]
  },
  {
   "cell_type": "code",
   "execution_count": 4,
   "id": "59af9b22-f2b9-499e-8166-94dc940e0457",
   "metadata": {},
   "outputs": [
    {
     "name": "stdin",
     "output_type": "stream",
     "text": [
      "Enter a string: Python\n"
     ]
    }
   ],
   "source": [
    "str=input(\"Enter a string:\")"
   ]
  },
  {
   "cell_type": "code",
   "execution_count": 6,
   "id": "3c635e35-bcdf-4cd4-b369-c2b8fd5d7716",
   "metadata": {},
   "outputs": [],
   "source": [
    "rev_str=str[::-1]"
   ]
  },
  {
   "cell_type": "code",
   "execution_count": 7,
   "id": "c3d139dc-1ef8-4ce6-ba29-9d184fa28dbd",
   "metadata": {},
   "outputs": [
    {
     "name": "stdout",
     "output_type": "stream",
     "text": [
      "The reversed srting is: nohtyP\n"
     ]
    }
   ],
   "source": [
    "print(\"The reversed srting is:\", rev_str)"
   ]
  },
  {
   "cell_type": "code",
   "execution_count": null,
   "id": "12693bec-8c6a-4a0e-8b6c-a7ba163ffa59",
   "metadata": {},
   "outputs": [],
   "source": []
  },
  {
   "cell_type": "code",
   "execution_count": 35,
   "id": "5cc49520-fa6d-424d-b400-a1dfe307094b",
   "metadata": {},
   "outputs": [],
   "source": [
    "#2.Check if a string is a palindrome."
   ]
  },
  {
   "cell_type": "code",
   "execution_count": 36,
   "id": "c2c318d1-a064-47c9-adcc-5a6aa82f695a",
   "metadata": {},
   "outputs": [
    {
     "name": "stdin",
     "output_type": "stream",
     "text": [
      "Enter a string: MADAM\n"
     ]
    }
   ],
   "source": [
    "a=input(\"Enter a string:\")"
   ]
  },
  {
   "cell_type": "code",
   "execution_count": 37,
   "id": "0954bdc7-b6dc-471a-ada1-cad5e5497ca7",
   "metadata": {},
   "outputs": [],
   "source": [
    "b=a[::-1]"
   ]
  },
  {
   "cell_type": "code",
   "execution_count": 42,
   "id": "441944df-4a4b-4d67-b5c5-f6227899ecdd",
   "metadata": {},
   "outputs": [
    {
     "name": "stdout",
     "output_type": "stream",
     "text": [
      "MADAM is palindrome\n"
     ]
    }
   ],
   "source": [
    "if (a==b):\n",
    "    print(a, \"is palindrome\")\n",
    "else:\n",
    "    print(a,\"is not palindrome\")    "
   ]
  },
  {
   "cell_type": "code",
   "execution_count": null,
   "id": "58d6a8f3-49ed-4c29-9d48-f136261dab82",
   "metadata": {},
   "outputs": [],
   "source": []
  },
  {
   "cell_type": "code",
   "execution_count": 43,
   "id": "593f785e-44f2-4ad7-8000-97b878760001",
   "metadata": {},
   "outputs": [],
   "source": [
    "#3.Convert a string to uppercase."
   ]
  },
  {
   "cell_type": "code",
   "execution_count": 5,
   "id": "5918d9a5-c07b-4fab-925c-148ee4c9708c",
   "metadata": {},
   "outputs": [
    {
     "name": "stdin",
     "output_type": "stream",
     "text": [
      "Enter a string: how are you today?\n"
     ]
    },
    {
     "name": "stdout",
     "output_type": "stream",
     "text": [
      "HOW ARE YOU TODAY?\n"
     ]
    }
   ],
   "source": [
    "int_str=input(\"Enter a string:\")\n",
    "up_str=int_str.upper()\n",
    "print(up_str)"
   ]
  },
  {
   "cell_type": "code",
   "execution_count": null,
   "id": "39eacc10-9165-4d04-8abf-5f354b34ccef",
   "metadata": {},
   "outputs": [],
   "source": []
  },
  {
   "cell_type": "code",
   "execution_count": 6,
   "id": "ed86daea-98d2-4913-b25b-a6141249ad67",
   "metadata": {},
   "outputs": [],
   "source": [
    "#4.Convert a string to lowercase."
   ]
  },
  {
   "cell_type": "code",
   "execution_count": 7,
   "id": "d6e06871-d42c-46ef-b216-56688bac2339",
   "metadata": {},
   "outputs": [
    {
     "name": "stdin",
     "output_type": "stream",
     "text": [
      "Enter a string: THANK YOU\n"
     ]
    },
    {
     "name": "stdout",
     "output_type": "stream",
     "text": [
      "thank you\n"
     ]
    }
   ],
   "source": [
    "int_str=input(\"Enter a string:\")\n",
    "low_str=int_str.lower()\n",
    "print(low_str)"
   ]
  },
  {
   "cell_type": "code",
   "execution_count": null,
   "id": "6931ddb7-e4a4-4dd3-a764-a9ee9f040caa",
   "metadata": {},
   "outputs": [],
   "source": []
  },
  {
   "cell_type": "code",
   "execution_count": null,
   "id": "000c61ba-5205-4fbe-ab3f-d73411387fd0",
   "metadata": {},
   "outputs": [],
   "source": [
    "#"
   ]
  }
 ],
 "metadata": {
  "kernelspec": {
   "display_name": "Python 3 (ipykernel)",
   "language": "python",
   "name": "python3"
  },
  "language_info": {
   "codemirror_mode": {
    "name": "ipython",
    "version": 3
   },
   "file_extension": ".py",
   "mimetype": "text/x-python",
   "name": "python",
   "nbconvert_exporter": "python",
   "pygments_lexer": "ipython3",
   "version": "3.10.8"
  }
 },
 "nbformat": 4,
 "nbformat_minor": 5
}
